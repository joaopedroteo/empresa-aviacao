{
 "cells": [
  {
   "cell_type": "markdown",
   "metadata": {},
   "source": [
    "# Empresa de Aviação"
   ]
  },
  {
   "cell_type": "markdown",
   "metadata": {},
   "source": [
    "Usando Gurobi para otimizar"
   ]
  },
  {
   "cell_type": "code",
   "execution_count": 1,
   "metadata": {},
   "outputs": [
    {
     "name": "stdout",
     "output_type": "stream",
     "text": [
      "Academic license - for non-commercial use only\n"
     ]
    },
    {
     "data": {
      "text/latex": [
       "$$ \\begin{alignat*}{1}\\text{feasibility}\\\\\n",
       "\\text{Subject to} \\quad\\end{alignat*}\n",
       " $$"
      ],
      "text/plain": [
       "A JuMP Model\n",
       "Feasibility problem with:\n",
       "Variables: 0\n",
       "Model mode: AUTOMATIC\n",
       "CachingOptimizer state: EMPTY_OPTIMIZER\n",
       "Solver name: Gurobi"
      ]
     },
     "execution_count": 1,
     "metadata": {},
     "output_type": "execute_result"
    }
   ],
   "source": [
    "#!/usr/bin/env  julia\n",
    "using JuMP\n",
    "using Gurobi\n",
    "\n",
    "m = Model(with_optimizer(Gurobi.Optimizer))"
   ]
  },
  {
   "cell_type": "markdown",
   "metadata": {},
   "source": [
    "Declarando as variáveis"
   ]
  },
  {
   "cell_type": "code",
   "execution_count": 2,
   "metadata": {},
   "outputs": [
    {
     "data": {
      "text/plain": [
       "220"
      ]
     },
     "execution_count": 2,
     "metadata": {},
     "output_type": "execute_result"
    }
   ],
   "source": [
    "# Conjunto de aviões\n",
    "A = [\"A1\", \"A2\", \"A3\"]\n",
    "\n",
    "# Custos dos aviões\n",
    "C = Dict(\n",
    "    \"A1\" => 5.1,\n",
    "    \"A2\" => 3.6,\n",
    "    \"A3\" => 6.8\n",
    ")\n",
    "\n",
    "# Receita Teórica\n",
    "R = Dict(\n",
    "    \"A1\" => 330,\n",
    "    \"A2\" => 300,\n",
    "    \"A3\" => 420\n",
    ")\n",
    "\n",
    "# Pilotos aptos\n",
    "P = Dict(\n",
    "    \"A1\" => 30,\n",
    "    \"A2\" => 20,\n",
    "    \"A3\" => 10\n",
    ")\n",
    "\n",
    "# Relação da capacidade de manuteção do hangar\n",
    "M = Dict(\n",
    "    \"A1\" => 1,\n",
    "    \"A2\" => 0.75,\n",
    "    \"A3\" => 1.66666666666667\n",
    ")\n",
    "\n",
    "capacidadeMax = 40  #capacidade máxima de manutenção do hangar\n",
    "verba = 220"
   ]
  },
  {
   "cell_type": "markdown",
   "metadata": {},
   "source": [
    "Váriáveis do problema que queremos otimizar, são a quantidade de cada modelo de avião que a empresa deve comprar para otimizar seu lucro "
   ]
  },
  {
   "cell_type": "code",
   "execution_count": 3,
   "metadata": {},
   "outputs": [
    {
     "data": {
      "text/plain": [
       "1-dimensional DenseAxisArray{VariableRef,1,...} with index sets:\n",
       "    Dimension 1, [\"A1\", \"A2\", \"A3\"]\n",
       "And data, a 3-element Array{VariableRef,1}:\n",
       " x[A1]\n",
       " x[A2]\n",
       " x[A3]"
      ]
     },
     "execution_count": 3,
     "metadata": {},
     "output_type": "execute_result"
    }
   ],
   "source": [
    "@variable(m, x[A] >= 0)"
   ]
  },
  {
   "cell_type": "markdown",
   "metadata": {},
   "source": [
    "Função objetivo do problema"
   ]
  },
  {
   "cell_type": "code",
   "execution_count": 4,
   "metadata": {},
   "outputs": [
    {
     "data": {
      "text/latex": [
       "$$ 324.9 x_{A1} + 296.4 x_{A2} + 413.2 x_{A3} $$"
      ],
      "text/plain": [
       "324.9 x[A1] + 296.4 x[A2] + 413.2 x[A3]"
      ]
     },
     "execution_count": 4,
     "metadata": {},
     "output_type": "execute_result"
    }
   ],
   "source": [
    "# Implementação da função objetivo\n",
    "@objective(m, Max, sum(x[i]*(R[i] - C[i]) for i in A))"
   ]
  },
  {
   "cell_type": "markdown",
   "metadata": {},
   "source": [
    "Adicionando restrições do problema"
   ]
  },
  {
   "cell_type": "code",
   "execution_count": 5,
   "metadata": {},
   "outputs": [
    {
     "name": "stdout",
     "output_type": "stream",
     "text": [
      "Max 324.9 x[A1] + 296.4 x[A2] + 413.2 x[A3]\n",
      "Subject to\n",
      " x[A1] ≥ 0.0\n",
      " x[A2] ≥ 0.0\n",
      " x[A3] ≥ 0.0\n",
      " x[A1] + 0.75 x[A2] + 1.66666666666667 x[A3] ≤ 40.0\n",
      " 5.1 x[A1] + 3.6 x[A2] + 6.8 x[A3] ≤ 220.0\n",
      " 2 x[A3] ≤ 10.0\n",
      " 2 x[A1] + 2 x[A3] ≤ 40.0\n",
      " 2 x[A2] + 2 x[A3] ≤ 30.0\n",
      " 2 x[A1] + 2 x[A2] + 2 x[A3] ≤ 60.0\n",
      "\n"
     ]
    }
   ],
   "source": [
    "@constraints(m, \n",
    "    begin\n",
    "        sum(x[i]*M[i] for i in A) <= capacidadeMax\n",
    "        sum(x[i]*C[i] for i in A) <= verba\n",
    "        x[\"A3\"]*2 <= P[\"A3\"]\n",
    "        x[\"A1\"]*2 + x[\"A3\"]*2 <= P[\"A1\"] + P[\"A3\"]\n",
    "        x[\"A2\"]*2 + x[\"A3\"]*2 <= P[\"A2\"] + P[\"A3\"]\n",
    "        sum(x[i]*2 for i in A) <= sum(P[i] for i in A)\n",
    "    end)\n",
    "\n",
    "println(m)"
   ]
  },
  {
   "cell_type": "markdown",
   "metadata": {},
   "source": [
    "Otimizando o problema e exibindo os resultados"
   ]
  },
  {
   "cell_type": "code",
   "execution_count": 6,
   "metadata": {},
   "outputs": [
    {
     "name": "stdout",
     "output_type": "stream",
     "text": [
      "Academic license - for non-commercial use only\n",
      "Optimize a model with 6 rows, 3 columns and 14 nonzeros\n",
      "Coefficient statistics:\n",
      "  Matrix range     [8e-01, 7e+00]\n",
      "  Objective range  [3e+02, 4e+02]\n",
      "  Bounds range     [0e+00, 0e+00]\n",
      "  RHS range        [1e+01, 2e+02]\n",
      "Presolve removed 3 rows and 0 columns\n",
      "Presolve time: 0.00s\n",
      "Presolved: 3 rows, 3 columns, 7 nonzeros\n",
      "\n",
      "Iteration    Objective       Primal Inf.    Dual Inf.      Time\n",
      "       0    1.2714742e+04   1.000800e+01   0.000000e+00      0s\n",
      "       2    9.9035000e+03   0.000000e+00   0.000000e+00      0s\n",
      "\n",
      "Solved in 2 iterations and 0.00 seconds\n",
      "Optimal objective  9.903500000e+03\n",
      "Tempo: 5.2021708488464355s\n",
      "Valor ótimo: [15.0, 10.0, 5.0]\n",
      "Função ótima: 9903.5\n"
     ]
    }
   ],
   "source": [
    "start = time()\n",
    "optimize!(m)\n",
    "println(\"Tempo: $(time()-start)s\")\n",
    "\n",
    "println(\"Valor ótimo: $(map(i-> JuMP.value(x[i]),A))\")\n",
    "println(\"Função ótima: \", JuMP.objective_value(m))"
   ]
  },
  {
   "cell_type": "code",
   "execution_count": null,
   "metadata": {},
   "outputs": [],
   "source": []
  }
 ],
 "metadata": {
  "kernelspec": {
   "display_name": "Julia 1.0.3",
   "language": "julia",
   "name": "julia-1.0"
  },
  "language_info": {
   "file_extension": ".jl",
   "mimetype": "application/julia",
   "name": "julia",
   "version": "1.0.3"
  }
 },
 "nbformat": 4,
 "nbformat_minor": 2
}
